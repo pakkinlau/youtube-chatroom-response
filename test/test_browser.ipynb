{
 "cells": [
  {
   "cell_type": "markdown",
   "metadata": {},
   "source": [
    "# Testing module for Browser class of Browswer2.py"
   ]
  },
  {
   "cell_type": "code",
   "execution_count": 75,
   "metadata": {},
   "outputs": [],
   "source": [
    "import import_ipynb\n",
    "from keys import login_page, username, password\n",
    "from listener import listen_livechat\n",
    "import browser2\n",
    "\n",
    "# from browser2 import Browser, Driver\n",
    "\n",
    "# this snippet enable autoreload for the whole document:\n",
    "import importlib\n",
    "importlib.reload(browser2)\n",
    "Browser, Driver = browser2.Browser, browser2.Driver\n",
    "\n",
    "import time\n",
    "from selenium import webdriver\n",
    "from selenium.webdriver.chrome.service import Service\n",
    "import undetected_chromedriver.v2 as uc\n",
    "from selenium.webdriver.chrome.options import Options\n",
    "from webdriver_manager.chrome import ChromeDriverManager\n"
   ]
  },
  {
   "cell_type": "markdown",
   "metadata": {},
   "source": [
    "## Testing the basic functions of Browser class"
   ]
  },
  {
   "cell_type": "code",
   "execution_count": 76,
   "metadata": {},
   "outputs": [],
   "source": [
    "video_id = \"JJNT-lmHf-g\"\n",
    "live_video_page = \"https://www.youtube.com/watch?v=\"+video_id\n",
    "\n",
    "# browser1.open_page(live_video_page)\n",
    "# OK"
   ]
  },
  {
   "cell_type": "code",
   "execution_count": 77,
   "metadata": {},
   "outputs": [
    {
     "data": {
      "text/plain": [
       "'\\nif __name__ == \"__main__\":\\n    # instantiation of driver\\n    driver = Driver().default()\\n    # instantiation of browsers \\n    browser1 = Browser(driver)\\n\\nfrom keys import login_page,username, password\\nbrowser1.login_youtube(username=username, password=password,login_page=login_page)\\ntime.sleep(5)\\n\\nfrom selenium.webdriver.common.by import (\\n    By,\\n)\\n\\n# the following module captures the screenshot for the element the locator is looking at: \\nimg_name = \"screenshot.png\"\\n\\ndef look_at_element(by,value,img_name):\\n    browser1.element_screenshot(by=By.XPATH, value=\\'//*[@id=\"logo-icon\"]\\',img_name = img_name)\\n    from IPython import display\\n    display.Image(img_name)\\n'"
      ]
     },
     "execution_count": 77,
     "metadata": {},
     "output_type": "execute_result"
    }
   ],
   "source": [
    "# test the screenshot\n",
    "\"\"\"\n",
    "if __name__ == \"__main__\":\n",
    "    # instantiation of driver\n",
    "    driver = Driver().default()\n",
    "    # instantiation of browsers \n",
    "    browser1 = Browser(driver)\n",
    "\n",
    "from keys import login_page,username, password\n",
    "browser1.login_youtube(username=username, password=password,login_page=login_page)\n",
    "time.sleep(5)\n",
    "\n",
    "from selenium.webdriver.common.by import (\n",
    "    By,\n",
    ")\n",
    "\n",
    "# the following module captures the screenshot for the element the locator is looking at: \n",
    "img_name = \"screenshot.png\"\n",
    "\n",
    "def look_at_element(by,value,img_name):\n",
    "    browser1.element_screenshot(by=By.XPATH, value='//*[@id=\"logo-icon\"]',img_name = img_name)\n",
    "    from IPython import display\n",
    "    display.Image(img_name)\n",
    "\"\"\""
   ]
  },
  {
   "cell_type": "code",
   "execution_count": 78,
   "metadata": {},
   "outputs": [
    {
     "name": "stdout",
     "output_type": "stream",
     "text": [
      "the 1 time to login...\n",
      "login_youtube() completed. \n",
      "start go to the login page again.\n",
      "page redirected to main page.\n",
      "trying to click the signup button\n",
      "Youtube login successfully. \n"
     ]
    }
   ],
   "source": [
    "\n",
    "# this snippet enable autoreload for the whole document:\n",
    "if __name__ == \"__main__\":\n",
    "    # instantiation of driver\n",
    "    driver = Driver().default()\n",
    "    # instantiation of browsers \n",
    "    browser1 = Browser(driver)\n",
    "\n",
    "from keys import login_page,username, password\n",
    "\n",
    "attempt = 0\n",
    "while attempt < 3:\n",
    "    attempt+=1\n",
    "    print(f'the {attempt} time to login...')\n",
    "    try:\n",
    "        browser1.login_youtube(username=username, password=password,login_page=login_page)\n",
    "        break\n",
    "    except:\n",
    "        print('failed.')\n",
    "    \n",
    "\n",
    "browser1.verify_logged_in(username=username, password=password,login_page=login_page)\n",
    "\n",
    "\n"
   ]
  },
  {
   "cell_type": "markdown",
   "metadata": {},
   "source": [
    "## Say something on the live channel with the bot"
   ]
  },
  {
   "cell_type": "code",
   "execution_count": 79,
   "metadata": {},
   "outputs": [
    {
     "name": "stdout",
     "output_type": "stream",
     "text": [
      "successfully say something\n"
     ]
    }
   ],
   "source": [
    "# tries to say something\n",
    "\n",
    "video_id = 'tNkZsRW7h2c'\n",
    "live_video_page = \"https://www.youtube.com/watch?v=\"+video_id\n",
    "browser1.open_page(live_video_page)\n",
    "browser1.test_say_something(\"I am on99\")\n",
    "print(\"successfully say something\")\n",
    " \n",
    "\n",
    "time.sleep(999)\n",
    "# browser1.verify_logged_in(username=username, password=password,login_page=login_page)"
   ]
  },
  {
   "cell_type": "code",
   "execution_count": 80,
   "metadata": {},
   "outputs": [
    {
     "ename": "SyntaxError",
     "evalue": "invalid syntax (2935918780.py, line 3)",
     "output_type": "error",
     "traceback": [
      "\u001b[1;36m  Cell \u001b[1;32mIn [80], line 3\u001b[1;36m\u001b[0m\n\u001b[1;33m    $x(\"<xpath value>\")\u001b[0m\n\u001b[1;37m    ^\u001b[0m\n\u001b[1;31mSyntaxError\u001b[0m\u001b[1;31m:\u001b[0m invalid syntax\n"
     ]
    }
   ],
   "source": [
    "# verify xpath quickly: \n",
    "# on Chrome F12 > console: type in\n",
    "$x(\"<xpath value>\")\n",
    "\n",
    "$x('//*[@id=\"input\"]')\n",
    "$x('//*[@id=\"logo-icon\"]')\n",
    "\n",
    "$x('//*[@id=\"label\"]')\n",
    "$x('//*[@id=\"top\"]')\n",
    "\n",
    "//*[@id=\"label\"]\n",
    "//*[@id=\"logo-icon\"]\n",
    "//*[@id=\"top\"]\n",
    "\n",
    "Tried value: //*[@id=\"input\"]\n",
    "\n",
    "type: \n",
    "yt-live-chat-text-input-field-renderer\n",
    "id: \n",
    "input\n",
    "class:\n",
    "yt-live-chat-message-input-renderer\n",
    "\n",
    "\n",
    "Try:\n",
    "CSS selector: \"yt-live-chat-text-input-field-renderer#id.yt-live-chat-message-input-renderer\"\n",
    "\n",
    "Eventual result:\n",
    "\n",
    "\n",
    "def test_say_something(self, text):\n",
    "    time.sleep(3)\n",
    "    locator_value = \"yt-live-chat-text-input-field-renderer#id.yt-live-chat-message-input-renderer\"\n",
    "    WebDriverWait(self.browser, 10).until(EC.element_to_be_clickable((By.CSS_SELECTOR,locator_value)))\n",
    "    self.add_input(by=By.CSS_SELECTOR, value=locator_value, text=text)\n",
    "    field = self.browser.find_element(by=By.CSS_SELECTOR, value=locator_value)\n",
    "    field.send_keys(Keys.ENTER)    \n",
    "\n",
    "Try:\n",
    "\"div#input.yt-live-chat-text-input-field-renderer\"\n",
    "\n",
    "Try:\n",
    "'div#input.yt-live-chat-text-input-field-renderer'\n",
    "\n",
    "\n"
   ]
  },
  {
   "cell_type": "markdown",
   "metadata": {},
   "source": [
    "The livechat element appears only when I inspect it. \n",
    "\n",
    "Install iframe detector, we found:\n",
    "\"/live_chat?continuation=0ofMyAN8Gl5DaWtxSndvWVZVTjJjek53U0c1dVIwOHhiM0JXU1U4MlQxOXFia1JSRWdzMFpIbzFablV4VVZWMGJ4b1Q2cWpkdVFFTkNnczBaSG8xWm5VeFVWVjBieUFCTUFBJTNEMAGCAQQIBBgCiAEBoAHPk769_-r7AqgBALIBAA%253D%253D\"\n",
    "is the source of the iframe. \n",
    "\n",
    "The full element of the related iframe as follow:\n",
    "<iframe frameborder=\"0\" scrolling=\"no\" id=\"chatframe\" \n",
    "class=\"style-scope ytd-live-chat-frame\" \n",
    "src=\"/live_chat?continuation=0ofMyAN8Gl5DaWtxSndvWVZVTjJjek53U0c1dVIwOHhiM0JXU1U4MlQxOXFia1JSRWdzMFpIbzFablV4VVZWMGJ4b1Q2cWpkdVFFTkNnczBaSG8xWm5VeFVWVjBieUFCTUFBJTNEMAGCAQQIBBgCiAEBoAH6yYrE_-r7AqgBALIBAA%253D%253D\" \n",
    "data-iframe-detector-id=\"1\"></iframe>\n",
    "\n",
    "The ID for the iframe is: \"chatframe\""
   ]
  },
  {
   "cell_type": "code",
   "execution_count": null,
   "metadata": {},
   "outputs": [],
   "source": [
    "# Syntax is: driver.switchTo().frame(id);\n",
    "# for the function, if would be... self.browser.switchTo().frame(\"chatframe\")\n"
   ]
  }
 ],
 "metadata": {
  "kernelspec": {
   "display_name": "Python 3.10.4 64-bit",
   "language": "python",
   "name": "python3"
  },
  "language_info": {
   "codemirror_mode": {
    "name": "ipython",
    "version": 3
   },
   "file_extension": ".py",
   "mimetype": "text/x-python",
   "name": "python",
   "nbconvert_exporter": "python",
   "pygments_lexer": "ipython3",
   "version": "3.10.4"
  },
  "orig_nbformat": 4,
  "vscode": {
   "interpreter": {
    "hash": "c19fa61d258bb2b35aae2ada233c33e2817c1ce895aa48acba720c6bf7cbe3cb"
   }
  }
 },
 "nbformat": 4,
 "nbformat_minor": 2
}
