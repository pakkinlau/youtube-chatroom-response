{
 "cells": [
  {
   "cell_type": "markdown",
   "metadata": {},
   "source": [
    "## Note to users:\n",
    "\n",
    "How to use this package:\n",
    "\n",
    "- Step 1: Modify data.json\n",
    "- Step 2: Click \"Run all\" on this jupyter notebook. "
   ]
  },
  {
   "cell_type": "markdown",
   "metadata": {},
   "source": []
  },
  {
   "cell_type": "markdown",
   "metadata": {},
   "source": [
    "## Verify selenium version\n",
    "\n",
    "The version of selenium should be >= 4.10.0 (Supporting \"headless\" mode in selenium)"
   ]
  },
  {
   "cell_type": "code",
   "execution_count": 1,
   "metadata": {},
   "outputs": [
    {
     "name": "stdout",
     "output_type": "stream",
     "text": [
      "Desired elenium version 4.12.0 (>=4.10.0) is already installed.\n"
     ]
    }
   ],
   "source": [
    "import selenium\n",
    "import subprocess\n",
    "\n",
    "# Define the desired Selenium version\n",
    "desired_version = \"4.10.0\"\n",
    "\n",
    "# Check the current Selenium version\n",
    "current_version = selenium.__version__\n",
    "\n",
    "if current_version >= desired_version:\n",
    "    print(f\"Desired elenium version {current_version} (>=4.10.0) is already installed.\")\n",
    "else:\n",
    "    print(f\"Current Selenium version is {current_version}.\")\n",
    "    print(f\"Uninstalling current version and installing {desired_version}...\")\n",
    "\n",
    "    # Uninstall the current version of Selenium\n",
    "    uninstall_cmd = f\"pip uninstall selenium -y\"\n",
    "    subprocess.run(uninstall_cmd, shell=True)\n",
    "\n",
    "    # Install the desired version of Selenium\n",
    "    install_cmd = f\"pip install selenium\"\n",
    "    subprocess.run(install_cmd, shell=True)\n",
    "\n",
    "    # Verify the installation\n",
    "    verification_version = selenium.__version__\n",
    "\n",
    "    if verification_version == desired_version:\n",
    "        print(f\"Selenium {desired_version} has been successfully installed.\")\n",
    "    else:\n",
    "        print(f\"Failed to install Selenium {desired_version}. Current version is {verification_version}.\")\n",
    "\n",
    "# Now you can use Selenium with the desired version\n"
   ]
  },
  {
   "cell_type": "markdown",
   "metadata": {},
   "source": [
    "## Preparing bots (Launch browsers. Login youtube)"
   ]
  },
  {
   "cell_type": "code",
   "execution_count": 2,
   "metadata": {},
   "outputs": [
    {
     "data": {
      "text/plain": [
       "<module 'browser' from '/home/kin/All_github_repos/youtube-chatroom-response/browser.py'>"
      ]
     },
     "execution_count": 2,
     "metadata": {},
     "output_type": "execute_result"
    }
   ],
   "source": [
    "\n",
    "\"\"\"\n",
    "Import local packages\n",
    "\"\"\"\n",
    "import importlib\n",
    "\n",
    "import browser\n",
    "importlib.reload(browser)  # reload the module, sometimes jupyter notebook does not reload the module\n",
    "\n",
    "import importlib # reload the module, sometimes jupyter notebook does not reload the module\n",
    "importlib.reload(browser)\n",
    "\n"
   ]
  },
  {
   "cell_type": "code",
   "execution_count": 3,
   "metadata": {},
   "outputs": [
    {
     "ename": "NameError",
     "evalue": "name 'accounts' is not defined",
     "output_type": "error",
     "traceback": [
      "\u001b[0;31m---------------------------------------------------------------------------\u001b[0m",
      "\u001b[0;31mNameError\u001b[0m                                 Traceback (most recent call last)",
      "\u001b[1;32m/home/kin/All_github_repos/youtube-chatroom-response/main.ipynb Cell 7\u001b[0m line \u001b[0;36m3\n\u001b[1;32m     <a href='vscode-notebook-cell:/home/kin/All_github_repos/youtube-chatroom-response/main.ipynb#W6sZmlsZQ%3D%3D?line=28'>29</a>\u001b[0m     data \u001b[39m=\u001b[39m json\u001b[39m.\u001b[39mload(json_file)\n\u001b[1;32m     <a href='vscode-notebook-cell:/home/kin/All_github_repos/youtube-chatroom-response/main.ipynb#W6sZmlsZQ%3D%3D?line=30'>31</a>\u001b[0m login_page \u001b[39m=\u001b[39m data[\u001b[39m'\u001b[39m\u001b[39mlogin_page\u001b[39m\u001b[39m'\u001b[39m]\n\u001b[0;32m---> <a href='vscode-notebook-cell:/home/kin/All_github_repos/youtube-chatroom-response/main.ipynb#W6sZmlsZQ%3D%3D?line=31'>32</a>\u001b[0m username1, password1 \u001b[39m=\u001b[39m accounts[\u001b[39m0\u001b[39m][\u001b[39m'\u001b[39m\u001b[39musername\u001b[39m\u001b[39m'\u001b[39m], accounts[\u001b[39m0\u001b[39m][\u001b[39m'\u001b[39m\u001b[39mpassword\u001b[39m\u001b[39m'\u001b[39m]\n\u001b[1;32m     <a href='vscode-notebook-cell:/home/kin/All_github_repos/youtube-chatroom-response/main.ipynb#W6sZmlsZQ%3D%3D?line=32'>33</a>\u001b[0m \u001b[39m# username2, password2 = accounts[1]['username'], accounts[1]['password']\u001b[39;00m\n\u001b[1;32m     <a href='vscode-notebook-cell:/home/kin/All_github_repos/youtube-chatroom-response/main.ipynb#W6sZmlsZQ%3D%3D?line=33'>34</a>\u001b[0m \n\u001b[1;32m     <a href='vscode-notebook-cell:/home/kin/All_github_repos/youtube-chatroom-response/main.ipynb#W6sZmlsZQ%3D%3D?line=34'>35</a>\u001b[0m \u001b[39m# for now I just use one account\u001b[39;00m\n\u001b[1;32m     <a href='vscode-notebook-cell:/home/kin/All_github_repos/youtube-chatroom-response/main.ipynb#W6sZmlsZQ%3D%3D?line=35'>36</a>\u001b[0m launch_bot(yt_browser, username1, password1)\n",
      "\u001b[0;31mNameError\u001b[0m: name 'accounts' is not defined"
     ]
    }
   ],
   "source": [
    "\n",
    "def launch_bot(browser, username, password):\n",
    "    attempt = 0\n",
    "    while attempt < 3:\n",
    "        attempt+=1\n",
    "        print(f'the {attempt} time to login...')\n",
    "        try:\n",
    "            browser.login_youtube(username=username, password=password,login_page=login_page)\n",
    "            break\n",
    "        except:\n",
    "            print('failed.')\n",
    "    browser.verify_logged_in(username=username, password=password,login_page=login_page)\n",
    "\n",
    "\n",
    "\n",
    "importlib.reload(browser)  # reload the module, sometimes jupyter notebook does not reload the module\n",
    "Driver = browser.Driver\n",
    "\n",
    "if __name__ == \"__main__\":\n",
    "    yt_browser = browser.BrowserFactory(option=\"youtube\").get_browser()\n",
    "\n",
    "\n",
    "\"\"\"\n",
    "Loading user information\n",
    "\"\"\"\n",
    "import json\n",
    "\n",
    "# Load data from the JSON file\n",
    "with open('data.json', 'r') as json_file:\n",
    "    data = json.load(json_file)\n",
    "\n",
    "login_page = data['login_page']\n",
    "accounts = data['accounts']\n",
    "username1, password1 = accounts[0]['username'], accounts[0]['password']\n",
    "# username2, password2 = accounts[1]['username'], accounts[1]['password']\n",
    "\n",
    "# for now I just use one account\n",
    "launch_bot(yt_browser, username1, password1)"
   ]
  },
  {
   "cell_type": "markdown",
   "metadata": {},
   "source": [
    "## Actions "
   ]
  },
  {
   "cell_type": "code",
   "execution_count": null,
   "metadata": {},
   "outputs": [],
   "source": [
    "import asyncio\n",
    "import time\n",
    "import listener\n",
    "import importlib\n",
    "from random import randint\n",
    "\n",
    "# Define your constants, including video_id\n",
    "\n",
    "def main():\n",
    "    yt_browser.open_page(live_video_page)\n",
    "\n",
    "    importlib.reload(listener)  # reload the module, sometimes Jupyter notebook does not reload the module\n",
    "\n",
    "    # import relevant functions from module\n",
    "    listen_livechat = listener.listen_livechat\n",
    "\n",
    "    time.sleep(3)\n",
    "    yt_browser.browser.switch_to.frame(\"chatframe\")\n",
    "\n",
    "    # this function keeps listening to the live chat and responds to the chat\n",
    "    await listen_livechat(video_id=video_id, cond_trigger_func=yt_browser.test_say_something)\n",
    "\n",
    "video_id = data['video_id']\n",
    "live_video_page = \"https://www.youtube.com/watch?v=\"+video_id\n",
    "\n",
    "if __name__ == \"__main__\":\n",
    "    main()\n"
   ]
  }
 ],
 "metadata": {
  "kernelspec": {
   "display_name": "Python 3.10.4 64-bit",
   "language": "python",
   "name": "python3"
  },
  "language_info": {
   "codemirror_mode": {
    "name": "ipython",
    "version": 3
   },
   "file_extension": ".py",
   "mimetype": "text/x-python",
   "name": "python",
   "nbconvert_exporter": "python",
   "pygments_lexer": "ipython3",
   "version": "3.10.12"
  },
  "orig_nbformat": 4,
  "vscode": {
   "interpreter": {
    "hash": "c19fa61d258bb2b35aae2ada233c33e2817c1ce895aa48acba720c6bf7cbe3cb"
   }
  }
 },
 "nbformat": 4,
 "nbformat_minor": 2
}
