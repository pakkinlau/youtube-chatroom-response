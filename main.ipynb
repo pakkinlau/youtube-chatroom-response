{
 "cells": [
  {
   "cell_type": "markdown",
   "metadata": {},
   "source": [
    "## Note to users:\n",
    "\n",
    "How to use this package:\n",
    "\n",
    "- Step 1: Modify data.json\n",
    "- Step 2: Click \"Run all\" on this jupyter notebook. "
   ]
  },
  {
   "cell_type": "markdown",
   "metadata": {},
   "source": []
  },
  {
   "cell_type": "markdown",
   "metadata": {},
   "source": [
    "## Verify selenium version\n",
    "\n",
    "The version of selenium should be >= 4.10.0 (Supporting \"headless\" mode in selenium)"
   ]
  },
  {
   "cell_type": "code",
   "execution_count": 6,
   "metadata": {},
   "outputs": [
    {
     "name": "stdout",
     "output_type": "stream",
     "text": [
      "Desired elenium version 4.12.0 (>=4.10.0) is already installed.\n"
     ]
    }
   ],
   "source": [
    "import selenium\n",
    "import subprocess\n",
    "\n",
    "# Define the desired Selenium version\n",
    "desired_version = \"4.10.0\"\n",
    "\n",
    "# Check the current Selenium version\n",
    "current_version = selenium.__version__\n",
    "\n",
    "if current_version >= desired_version:\n",
    "    print(f\"Desired elenium version {current_version} (>=4.10.0) is already installed.\")\n",
    "else:\n",
    "    print(f\"Current Selenium version is {current_version}.\")\n",
    "    print(f\"Uninstalling current version and installing {desired_version}...\")\n",
    "\n",
    "    # Uninstall the current version of Selenium\n",
    "    uninstall_cmd = f\"pip uninstall selenium -y\"\n",
    "    subprocess.run(uninstall_cmd, shell=True)\n",
    "\n",
    "    # Install the desired version of Selenium\n",
    "    install_cmd = f\"pip install selenium\"\n",
    "    subprocess.run(install_cmd, shell=True)\n",
    "\n",
    "    # Verify the installation\n",
    "    verification_version = selenium.__version__\n",
    "\n",
    "    if verification_version == desired_version:\n",
    "        print(f\"Selenium {desired_version} has been successfully installed.\")\n",
    "    else:\n",
    "        print(f\"Failed to install Selenium {desired_version}. Current version is {verification_version}.\")\n",
    "\n",
    "# Now you can use Selenium with the desired version\n"
   ]
  },
  {
   "cell_type": "markdown",
   "metadata": {},
   "source": [
    "## Preparing bots (Launch browsers. Login youtube)"
   ]
  },
  {
   "cell_type": "code",
   "execution_count": 7,
   "metadata": {},
   "outputs": [
    {
     "data": {
      "text/plain": [
       "<module 'browser' from '/home/kin/All_github_repos/python-coding-gym/Youtube browser interaction/browser.py'>"
      ]
     },
     "execution_count": 7,
     "metadata": {},
     "output_type": "execute_result"
    }
   ],
   "source": [
    "\n",
    "\"\"\"\n",
    "Import local packages\n",
    "\"\"\"\n",
    "import importlib\n",
    "\n",
    "import browser\n",
    "importlib.reload(browser)  # reload the module, sometimes jupyter notebook does not reload the module\n",
    "\n",
    "import importlib # reload the module, sometimes jupyter notebook does not reload the module\n",
    "importlib.reload(browser)\n",
    "\n"
   ]
  },
  {
   "cell_type": "code",
   "execution_count": 8,
   "metadata": {},
   "outputs": [
    {
     "ename": "JSONDecodeError",
     "evalue": "Expecting ',' delimiter: line 4 column 5 (char 500)",
     "output_type": "error",
     "traceback": [
      "\u001b[0;31m---------------------------------------------------------------------------\u001b[0m",
      "\u001b[0;31mJSONDecodeError\u001b[0m                           Traceback (most recent call last)",
      "\u001b[1;32m/home/kin/All_github_repos/python-coding-gym/Youtube browser interaction/main.ipynb Cell 6\u001b[0m line \u001b[0;36m2\n\u001b[1;32m     <a href='vscode-notebook-cell:/home/kin/All_github_repos/python-coding-gym/Youtube%20browser%20interaction/main.ipynb#W5sZmlsZQ%3D%3D?line=26'>27</a>\u001b[0m \u001b[39m# Load data from the JSON file\u001b[39;00m\n\u001b[1;32m     <a href='vscode-notebook-cell:/home/kin/All_github_repos/python-coding-gym/Youtube%20browser%20interaction/main.ipynb#W5sZmlsZQ%3D%3D?line=27'>28</a>\u001b[0m \u001b[39mwith\u001b[39;00m \u001b[39mopen\u001b[39m(\u001b[39m'\u001b[39m\u001b[39mdata.json\u001b[39m\u001b[39m'\u001b[39m, \u001b[39m'\u001b[39m\u001b[39mr\u001b[39m\u001b[39m'\u001b[39m) \u001b[39mas\u001b[39;00m json_file:\n\u001b[0;32m---> <a href='vscode-notebook-cell:/home/kin/All_github_repos/python-coding-gym/Youtube%20browser%20interaction/main.ipynb#W5sZmlsZQ%3D%3D?line=28'>29</a>\u001b[0m     data \u001b[39m=\u001b[39m json\u001b[39m.\u001b[39;49mload(json_file)\n\u001b[1;32m     <a href='vscode-notebook-cell:/home/kin/All_github_repos/python-coding-gym/Youtube%20browser%20interaction/main.ipynb#W5sZmlsZQ%3D%3D?line=30'>31</a>\u001b[0m login_page \u001b[39m=\u001b[39m data[\u001b[39m'\u001b[39m\u001b[39mlogin_page\u001b[39m\u001b[39m'\u001b[39m]\n\u001b[1;32m     <a href='vscode-notebook-cell:/home/kin/All_github_repos/python-coding-gym/Youtube%20browser%20interaction/main.ipynb#W5sZmlsZQ%3D%3D?line=31'>32</a>\u001b[0m username1, password1 \u001b[39m=\u001b[39m accounts[\u001b[39m0\u001b[39m][\u001b[39m'\u001b[39m\u001b[39musername\u001b[39m\u001b[39m'\u001b[39m], accounts[\u001b[39m0\u001b[39m][\u001b[39m'\u001b[39m\u001b[39mpassword\u001b[39m\u001b[39m'\u001b[39m]\n",
      "File \u001b[0;32m/usr/lib/python3.10/json/__init__.py:293\u001b[0m, in \u001b[0;36mload\u001b[0;34m(fp, cls, object_hook, parse_float, parse_int, parse_constant, object_pairs_hook, **kw)\u001b[0m\n\u001b[1;32m    274\u001b[0m \u001b[39mdef\u001b[39;00m \u001b[39mload\u001b[39m(fp, \u001b[39m*\u001b[39m, \u001b[39mcls\u001b[39m\u001b[39m=\u001b[39m\u001b[39mNone\u001b[39;00m, object_hook\u001b[39m=\u001b[39m\u001b[39mNone\u001b[39;00m, parse_float\u001b[39m=\u001b[39m\u001b[39mNone\u001b[39;00m,\n\u001b[1;32m    275\u001b[0m         parse_int\u001b[39m=\u001b[39m\u001b[39mNone\u001b[39;00m, parse_constant\u001b[39m=\u001b[39m\u001b[39mNone\u001b[39;00m, object_pairs_hook\u001b[39m=\u001b[39m\u001b[39mNone\u001b[39;00m, \u001b[39m*\u001b[39m\u001b[39m*\u001b[39mkw):\n\u001b[1;32m    276\u001b[0m \u001b[39m    \u001b[39m\u001b[39m\"\"\"Deserialize ``fp`` (a ``.read()``-supporting file-like object containing\u001b[39;00m\n\u001b[1;32m    277\u001b[0m \u001b[39m    a JSON document) to a Python object.\u001b[39;00m\n\u001b[1;32m    278\u001b[0m \n\u001b[0;32m   (...)\u001b[0m\n\u001b[1;32m    291\u001b[0m \u001b[39m    kwarg; otherwise ``JSONDecoder`` is used.\u001b[39;00m\n\u001b[1;32m    292\u001b[0m \u001b[39m    \"\"\"\u001b[39;00m\n\u001b[0;32m--> 293\u001b[0m     \u001b[39mreturn\u001b[39;00m loads(fp\u001b[39m.\u001b[39;49mread(),\n\u001b[1;32m    294\u001b[0m         \u001b[39mcls\u001b[39;49m\u001b[39m=\u001b[39;49m\u001b[39mcls\u001b[39;49m, object_hook\u001b[39m=\u001b[39;49mobject_hook,\n\u001b[1;32m    295\u001b[0m         parse_float\u001b[39m=\u001b[39;49mparse_float, parse_int\u001b[39m=\u001b[39;49mparse_int,\n\u001b[1;32m    296\u001b[0m         parse_constant\u001b[39m=\u001b[39;49mparse_constant, object_pairs_hook\u001b[39m=\u001b[39;49mobject_pairs_hook, \u001b[39m*\u001b[39;49m\u001b[39m*\u001b[39;49mkw)\n",
      "File \u001b[0;32m/usr/lib/python3.10/json/__init__.py:346\u001b[0m, in \u001b[0;36mloads\u001b[0;34m(s, cls, object_hook, parse_float, parse_int, parse_constant, object_pairs_hook, **kw)\u001b[0m\n\u001b[1;32m    341\u001b[0m     s \u001b[39m=\u001b[39m s\u001b[39m.\u001b[39mdecode(detect_encoding(s), \u001b[39m'\u001b[39m\u001b[39msurrogatepass\u001b[39m\u001b[39m'\u001b[39m)\n\u001b[1;32m    343\u001b[0m \u001b[39mif\u001b[39;00m (\u001b[39mcls\u001b[39m \u001b[39mis\u001b[39;00m \u001b[39mNone\u001b[39;00m \u001b[39mand\u001b[39;00m object_hook \u001b[39mis\u001b[39;00m \u001b[39mNone\u001b[39;00m \u001b[39mand\u001b[39;00m\n\u001b[1;32m    344\u001b[0m         parse_int \u001b[39mis\u001b[39;00m \u001b[39mNone\u001b[39;00m \u001b[39mand\u001b[39;00m parse_float \u001b[39mis\u001b[39;00m \u001b[39mNone\u001b[39;00m \u001b[39mand\u001b[39;00m\n\u001b[1;32m    345\u001b[0m         parse_constant \u001b[39mis\u001b[39;00m \u001b[39mNone\u001b[39;00m \u001b[39mand\u001b[39;00m object_pairs_hook \u001b[39mis\u001b[39;00m \u001b[39mNone\u001b[39;00m \u001b[39mand\u001b[39;00m \u001b[39mnot\u001b[39;00m kw):\n\u001b[0;32m--> 346\u001b[0m     \u001b[39mreturn\u001b[39;00m _default_decoder\u001b[39m.\u001b[39;49mdecode(s)\n\u001b[1;32m    347\u001b[0m \u001b[39mif\u001b[39;00m \u001b[39mcls\u001b[39m \u001b[39mis\u001b[39;00m \u001b[39mNone\u001b[39;00m:\n\u001b[1;32m    348\u001b[0m     \u001b[39mcls\u001b[39m \u001b[39m=\u001b[39m JSONDecoder\n",
      "File \u001b[0;32m/usr/lib/python3.10/json/decoder.py:337\u001b[0m, in \u001b[0;36mJSONDecoder.decode\u001b[0;34m(self, s, _w)\u001b[0m\n\u001b[1;32m    332\u001b[0m \u001b[39mdef\u001b[39;00m \u001b[39mdecode\u001b[39m(\u001b[39mself\u001b[39m, s, _w\u001b[39m=\u001b[39mWHITESPACE\u001b[39m.\u001b[39mmatch):\n\u001b[1;32m    333\u001b[0m \u001b[39m    \u001b[39m\u001b[39m\"\"\"Return the Python representation of ``s`` (a ``str`` instance\u001b[39;00m\n\u001b[1;32m    334\u001b[0m \u001b[39m    containing a JSON document).\u001b[39;00m\n\u001b[1;32m    335\u001b[0m \n\u001b[1;32m    336\u001b[0m \u001b[39m    \"\"\"\u001b[39;00m\n\u001b[0;32m--> 337\u001b[0m     obj, end \u001b[39m=\u001b[39m \u001b[39mself\u001b[39;49m\u001b[39m.\u001b[39;49mraw_decode(s, idx\u001b[39m=\u001b[39;49m_w(s, \u001b[39m0\u001b[39;49m)\u001b[39m.\u001b[39;49mend())\n\u001b[1;32m    338\u001b[0m     end \u001b[39m=\u001b[39m _w(s, end)\u001b[39m.\u001b[39mend()\n\u001b[1;32m    339\u001b[0m     \u001b[39mif\u001b[39;00m end \u001b[39m!=\u001b[39m \u001b[39mlen\u001b[39m(s):\n",
      "File \u001b[0;32m/usr/lib/python3.10/json/decoder.py:353\u001b[0m, in \u001b[0;36mJSONDecoder.raw_decode\u001b[0;34m(self, s, idx)\u001b[0m\n\u001b[1;32m    344\u001b[0m \u001b[39m\u001b[39m\u001b[39m\"\"\"Decode a JSON document from ``s`` (a ``str`` beginning with\u001b[39;00m\n\u001b[1;32m    345\u001b[0m \u001b[39ma JSON document) and return a 2-tuple of the Python\u001b[39;00m\n\u001b[1;32m    346\u001b[0m \u001b[39mrepresentation and the index in ``s`` where the document ended.\u001b[39;00m\n\u001b[0;32m   (...)\u001b[0m\n\u001b[1;32m    350\u001b[0m \n\u001b[1;32m    351\u001b[0m \u001b[39m\"\"\"\u001b[39;00m\n\u001b[1;32m    352\u001b[0m \u001b[39mtry\u001b[39;00m:\n\u001b[0;32m--> 353\u001b[0m     obj, end \u001b[39m=\u001b[39m \u001b[39mself\u001b[39;49m\u001b[39m.\u001b[39;49mscan_once(s, idx)\n\u001b[1;32m    354\u001b[0m \u001b[39mexcept\u001b[39;00m \u001b[39mStopIteration\u001b[39;00m \u001b[39mas\u001b[39;00m err:\n\u001b[1;32m    355\u001b[0m     \u001b[39mraise\u001b[39;00m JSONDecodeError(\u001b[39m\"\u001b[39m\u001b[39mExpecting value\u001b[39m\u001b[39m\"\u001b[39m, s, err\u001b[39m.\u001b[39mvalue) \u001b[39mfrom\u001b[39;00m \u001b[39mNone\u001b[39;00m\n",
      "\u001b[0;31mJSONDecodeError\u001b[0m: Expecting ',' delimiter: line 4 column 5 (char 500)"
     ]
    }
   ],
   "source": [
    "\n",
    "def launch_bot(browser, username, password):\n",
    "    attempt = 0\n",
    "    while attempt < 3:\n",
    "        attempt+=1\n",
    "        print(f'the {attempt} time to login...')\n",
    "        try:\n",
    "            browser.login_youtube(username=username, password=password,login_page=login_page)\n",
    "            break\n",
    "        except:\n",
    "            print('failed.')\n",
    "    browser.verify_logged_in(username=username, password=password,login_page=login_page)\n",
    "\n",
    "\n",
    "\n",
    "importlib.reload(browser)  # reload the module, sometimes jupyter notebook does not reload the module\n",
    "Driver = browser.Driver\n",
    "\n",
    "if __name__ == \"__main__\":\n",
    "    yt_browser = browser.BrowserFactory(option=\"youtube\").get_browser()\n",
    "\n",
    "\n",
    "\"\"\"\n",
    "Loading user information\n",
    "\"\"\"\n",
    "import json\n",
    "\n",
    "# Load data from the JSON file\n",
    "with open('data.json', 'r') as json_file:\n",
    "    data = json.load(json_file)\n",
    "\n",
    "login_page = data['login_page']\n",
    "username1, password1 = accounts[0]['username'], accounts[0]['password']\n",
    "# username2, password2 = accounts[1]['username'], accounts[1]['password']\n",
    "\n",
    "# for now I just use one account\n",
    "launch_bot(yt_browser, username1, password1)"
   ]
  },
  {
   "cell_type": "markdown",
   "metadata": {},
   "source": [
    "## Actions "
   ]
  },
  {
   "cell_type": "code",
   "execution_count": null,
   "metadata": {},
   "outputs": [],
   "source": [
    "import asyncio\n",
    "import time\n",
    "import listener\n",
    "import importlib\n",
    "from random import randint\n",
    "\n",
    "# Define your constants, including video_id\n",
    "\n",
    "def main():\n",
    "    yt_browser.open_page(live_video_page)\n",
    "\n",
    "    importlib.reload(listener)  # reload the module, sometimes Jupyter notebook does not reload the module\n",
    "\n",
    "    # import relevant functions from module\n",
    "    listen_livechat = listener.listen_livechat\n",
    "\n",
    "    time.sleep(3)\n",
    "    yt_browser.browser.switch_to.frame(\"chatframe\")\n",
    "\n",
    "    # this function keeps listening to the live chat and responds to the chat\n",
    "    await listen_livechat(video_id=video_id, cond_trigger_func=yt_browser.test_say_something)\n",
    "\n",
    "video_id = data['video_id']\n",
    "live_video_page = \"https://www.youtube.com/watch?v=\"+video_id\n",
    "\n",
    "if __name__ == \"__main__\":\n",
    "    main()\n"
   ]
  }
 ],
 "metadata": {
  "kernelspec": {
   "display_name": "Python 3.10.4 64-bit",
   "language": "python",
   "name": "python3"
  },
  "language_info": {
   "codemirror_mode": {
    "name": "ipython",
    "version": 3
   },
   "file_extension": ".py",
   "mimetype": "text/x-python",
   "name": "python",
   "nbconvert_exporter": "python",
   "pygments_lexer": "ipython3",
   "version": "3.10.12"
  },
  "orig_nbformat": 4,
  "vscode": {
   "interpreter": {
    "hash": "c19fa61d258bb2b35aae2ada233c33e2817c1ce895aa48acba720c6bf7cbe3cb"
   }
  }
 },
 "nbformat": 4,
 "nbformat_minor": 2
}
